{
 "cells": [
  {
   "cell_type": "code",
   "execution_count": 1,
   "metadata": {},
   "outputs": [],
   "source": [
    "import pandas as pd\n",
    "import numpy as np\n",
    "from datetime import date\n",
    "import re\n",
    "\n",
    "import train_test_split as tts\n",
    "import evaluation as eva\n",
    "import data_util as util\n",
    "import feature_selection_missing_data as femd\n",
    "import do\n",
    "\n",
    "import decision_tree\n",
    "import logistic\n",
    "import svm\n",
    "import knn\n",
    "import boosting\n",
    "import bagging"
   ]
  },
  {
   "cell_type": "code",
   "execution_count": 2,
   "metadata": {},
   "outputs": [],
   "source": [
    "data = util.read_csv_data(\"projects_2012_2013.csv\")"
   ]
  },
  {
   "cell_type": "code",
   "execution_count": 3,
   "metadata": {},
   "outputs": [
    {
     "data": {
      "text/plain": [
       "{'date_posted': (0, 124976),\n",
       " 'datefullyfunded': (0, 124976),\n",
       " 'eligible_double_your_impact_match': (0, 124976),\n",
       " 'grade_level': (3, 124976),\n",
       " 'poverty_level': (0, 124976),\n",
       " 'primary_focus_area': (15, 124976),\n",
       " 'primary_focus_subject': (15, 124976),\n",
       " 'projectid': (0, 124976),\n",
       " 'resource_type': (17, 124976),\n",
       " 'school_charter': (0, 124976),\n",
       " 'school_city': (0, 124976),\n",
       " 'school_county': (0, 124976),\n",
       " 'school_district': (172, 124976),\n",
       " 'school_latitude': (0, 124976),\n",
       " 'school_longitude': (0, 124976),\n",
       " 'school_magnet': (0, 124976),\n",
       " 'school_metro': (15224, 124976),\n",
       " 'school_ncesid': (9233, 124976),\n",
       " 'school_state': (0, 124976),\n",
       " 'schoolid': (0, 124976),\n",
       " 'secondary_focus_area': (40556, 124976),\n",
       " 'secondary_focus_subject': (40556, 124976),\n",
       " 'students_reached': (59, 124976),\n",
       " 'teacher_acctid': (0, 124976),\n",
       " 'teacher_prefix': (0, 124976),\n",
       " 'total_price_including_optional_support': (0, 124976)}"
      ]
     },
     "execution_count": 3,
     "metadata": {},
     "output_type": "execute_result"
    }
   ],
   "source": [
    "femd.summarize_missing_values(data)"
   ]
  },
  {
   "cell_type": "markdown",
   "metadata": {},
   "source": [
    "Due to the fact the columns which contain the missing values are categorical, using origin method to fill the missing in column mean is not appropriate. Therefore, I use the most frequent value in given columns instead to fill in the missing value, which are less restricted to the type of the data."
   ]
  },
  {
   "cell_type": "code",
   "execution_count": 4,
   "metadata": {},
   "outputs": [],
   "source": [
    "data = femd.fill_na_freq(data)"
   ]
  },
  {
   "cell_type": "code",
   "execution_count": 5,
   "metadata": {},
   "outputs": [
    {
     "data": {
      "text/plain": [
       "{'date_posted': (0, 124976),\n",
       " 'datefullyfunded': (0, 124976),\n",
       " 'eligible_double_your_impact_match': (0, 124976),\n",
       " 'grade_level': (0, 124976),\n",
       " 'poverty_level': (0, 124976),\n",
       " 'primary_focus_area': (0, 124976),\n",
       " 'primary_focus_subject': (0, 124976),\n",
       " 'projectid': (0, 124976),\n",
       " 'resource_type': (0, 124976),\n",
       " 'school_charter': (0, 124976),\n",
       " 'school_city': (0, 124976),\n",
       " 'school_county': (0, 124976),\n",
       " 'school_district': (0, 124976),\n",
       " 'school_latitude': (0, 124976),\n",
       " 'school_longitude': (0, 124976),\n",
       " 'school_magnet': (0, 124976),\n",
       " 'school_metro': (0, 124976),\n",
       " 'school_ncesid': (0, 124976),\n",
       " 'school_state': (0, 124976),\n",
       " 'schoolid': (0, 124976),\n",
       " 'secondary_focus_area': (0, 124976),\n",
       " 'secondary_focus_subject': (0, 124976),\n",
       " 'students_reached': (0, 124976),\n",
       " 'teacher_acctid': (0, 124976),\n",
       " 'teacher_prefix': (0, 124976),\n",
       " 'total_price_including_optional_support': (0, 124976)}"
      ]
     },
     "execution_count": 5,
     "metadata": {},
     "output_type": "execute_result"
    }
   ],
   "source": [
    "femd.summarize_missing_values(data)"
   ]
  },
  {
   "cell_type": "markdown",
   "metadata": {},
   "source": [
    "After the missing value is filled, the summary statistics that all the data I am going to use is complete right now. Then we move on to define features and classifiers. First of all, we exclude personal and geographical identification recods of the variables and focus on the features representing the characteristics of the projects. We find out that lots of the features are categorical in this case. In order to make use of these features, we thransform them to binary variables"
   ]
  },
  {
   "cell_type": "code",
   "execution_count": 6,
   "metadata": {},
   "outputs": [],
   "source": [
    "features = [\"school_charter\", \"school_magnet\", \"primary_focus_subject\", \"primary_focus_area\", \"secondary_focus_subject\",\n",
    "           \"secondary_focus_area\", \"resource_type\", \"poverty_level\", \"grade_level\", 'eligible_double_your_impact_match',\n",
    "           'total_price_including_optional_support', 'students_reached']\n",
    "cat_features = [\"school_charter\", \"school_magnet\", \"primary_focus_subject\", \"primary_focus_area\", \"secondary_focus_subject\",\n",
    "           \"secondary_focus_area\", \"resource_type\", \"poverty_level\", \"grade_level\", 'eligible_double_your_impact_match']\n",
    "selected_columns = [\"school_charter\", \"school_magnet\", \"primary_focus_subject\", \"primary_focus_area\", \"secondary_focus_subject\",\n",
    "           \"secondary_focus_area\", \"resource_type\", \"poverty_level\", \"grade_level\", 'eligible_double_your_impact_match',\n",
    "           'date_posted', 'datefullyfunded', 'total_price_including_optional_support', 'students_reached']"
   ]
  },
  {
   "cell_type": "code",
   "execution_count": 7,
   "metadata": {},
   "outputs": [],
   "source": [
    "data = data[selected_columns]\n",
    "for feature in cat_features:\n",
    "    data = util.category_to_binary(data, feature)\n",
    "data = data[data.columns[10:]]"
   ]
  },
  {
   "cell_type": "code",
   "execution_count": 8,
   "metadata": {},
   "outputs": [],
   "source": [
    "final_features = data.columns[2:]"
   ]
  },
  {
   "cell_type": "code",
   "execution_count": 9,
   "metadata": {},
   "outputs": [],
   "source": [
    "def define_date(date_string):\n",
    "    full_date = re.findall(\"([0-9]*)/([0-9]*)/([0-9]*)\", date_string)[0]\n",
    "    i_year, i_month, i_day = int(\"20\" + full_date[2]), int(full_date[0]), int(full_date[1])\n",
    "    return date(i_year, i_month, i_day)"
   ]
  },
  {
   "cell_type": "code",
   "execution_count": 10,
   "metadata": {},
   "outputs": [],
   "source": [
    "data[\"date_posted\"] = data.apply(lambda x: define_date(x[\"date_posted\"]), axis=1)\n",
    "data['datefullyfunded'] = data.apply(lambda x: define_date(x['datefullyfunded']), axis=1)\n",
    "data[\"accept_day\"] = data.apply(lambda x: (x['datefullyfunded'] - x[\"date_posted\"]).days, axis=1)\n",
    "data[\"classifier\"] = 0\n",
    "data.loc[data[\"accept_day\"] > 60, \"classifier\"] = 1"
   ]
  },
  {
   "cell_type": "markdown",
   "metadata": {},
   "source": [
    "Considering the scale may be effective in svm and logistics models, I normalized the continuous variables in the dataset with function normalization_column in data_util.py file"
   ]
  },
  {
   "cell_type": "code",
   "execution_count": 11,
   "metadata": {},
   "outputs": [],
   "source": [
    "numerical_columns = ['total_price_including_optional_support', 'students_reached']\n",
    "for column in numerical_columns:\n",
    "    data = util.normalization_column(data, column)"
   ]
  },
  {
   "cell_type": "code",
   "execution_count": 12,
   "metadata": {},
   "outputs": [],
   "source": [
    "def time_setter(time_object):\n",
    "    time = 0\n",
    "    if (time_object - date(2012, 6, 30)).days > 0:\n",
    "        if (time_object - date(2012, 12, 31)).days > 0:\n",
    "            if (time_object - date(2013, 6, 30)).days > 0:\n",
    "                time = 3\n",
    "            else:\n",
    "                time = 2         \n",
    "        else:\n",
    "            time = 1\n",
    "\n",
    "    return time "
   ]
  },
  {
   "cell_type": "code",
   "execution_count": 13,
   "metadata": {},
   "outputs": [],
   "source": [
    "data[\"time\"] = data.apply(lambda x: time_setter(x[\"date_posted\"]), axis=1)\n",
    "classifier = 'classifier'\n",
    "time_index = \"time\""
   ]
  },
  {
   "cell_type": "code",
   "execution_count": 73,
   "metadata": {},
   "outputs": [
    {
     "data": {
      "text/plain": [
       "0.2881353219818205"
      ]
     },
     "execution_count": 73,
     "metadata": {},
     "output_type": "execute_result"
    }
   ],
   "source": [
    "data[data[\"classifier\"]==1].shape[0] / data.shape[0]"
   ]
  },
  {
   "cell_type": "markdown",
   "metadata": {},
   "source": [
    "The total number of features is 92 in this case, I am applying select_K_best_features function from featue_selection_missing_data.py to select the k features which contain the most variance in the pool of features. In this analysis, the number of k will be set to 30."
   ]
  },
  {
   "cell_type": "code",
   "execution_count": 14,
   "metadata": {},
   "outputs": [],
   "source": [
    "Kfeatures = list(femd.select_K_best_features(data, final_features, classifier, k=30)[1].index)"
   ]
  },
  {
   "cell_type": "code",
   "execution_count": 15,
   "metadata": {},
   "outputs": [],
   "source": [
    "data_dict = tts.rolling_window_split(data, time_index, Kfeatures, classifier)"
   ]
  },
  {
   "cell_type": "code",
   "execution_count": 20,
   "metadata": {},
   "outputs": [],
   "source": [
    "threshold_list = [0.01, 0.02, 0.05, 0.1, 0.2, 0.3, 0.4, 0.5]\n",
    "opt = []"
   ]
  },
  {
   "cell_type": "code",
   "execution_count": null,
   "metadata": {},
   "outputs": [],
   "source": [
    "# accuracy for models\n",
    "decision_tree_accuracy = do.cross_validate_performance(data_dict, \"decision_tree\", opt, \"accuracy\", threshold_list)\n",
    "random_forest_accuracy = do.cross_validate_performance(data_dict, \"random_forest\", opt, \"accuracy\", threshold_list)\n",
    "svm_accuracy = do.cross_validate_performance(data_dict, \"svm\", opt, \"accuracy\", threshold_list)\n",
    "logistics_accuracy = do.cross_validate_performance(data_dict, \"logistics\", opt, \"accuracy\", threshold_list)\n",
    "knn_accuracy = do.cross_validate_performance(data_dict, \"knn\", opt, \"accuracy\", threshold_list)\n",
    "\n",
    "\n",
    "# precision for models\n",
    "decision_tree_precision = do.cross_validate_performance(data_dict, \"decision_tree\", opt, \"precision\", threshold_list)\n",
    "random_forest_precision = do.cross_validate_performance(data_dict, \"random_forest\", opt, \"precision\", threshold_list)\n",
    "svm_precision = do.cross_validate_performance(data_dict, \"svm\", opt, \"precision\", threshold_list)\n",
    "logistics_precision = do.cross_validate_performance(data_dict, \"logistics\", opt, \"precision\", threshold_list)\n",
    "knn_precision = do.cross_validate_performance(data_dict, \"knn\", opt, \"precision\", threshold_list)\n",
    "\n",
    "\n",
    "# recall for models\n",
    "decision_tree_recall = do.cross_validate_performance(data_dict, \"decision_tree\", opt, \"recall\", threshold_list)\n",
    "random_forest_recall = do.cross_validate_performance(data_dict, \"random_forest\", opt, \"recall\", threshold_list)\n",
    "svm_recall = do.cross_validate_performance(data_dict, \"svm\", opt, \"recall\", threshold_list)\n",
    "logistics_recall = do.cross_validate_performance(data_dict, \"logistics\", opt, \"recall\", threshold_list)\n",
    "knn_recall = do.cross_validate_performance(data_dict, \"knn\", opt, \"recall\", threshold_list)\n",
    "\n",
    "\n",
    "# f1 for models\n",
    "decision_tree_f1 = do.cross_validate_performance(data_dict, \"decision_tree\", opt, \"f1\", threshold_list)\n",
    "random_forest_f1 = do.cross_validate_performance(data_dict, \"random_forest\", opt, \"f1\", threshold_list)\n",
    "svm_f1 = do.cross_validate_performance(data_dict, \"svm\", opt, \"f1\", threshold_list)\n",
    "logistics_f1 = do.cross_validate_performance(data_dict, \"logistics\", opt, \"f1\", threshold_list)\n",
    "knn_f1 = do.cross_validate_performance(data_dict, \"knn\", opt, \"f1\", threshold_list)\n",
    "\n",
    "\n",
    "# AUC_ROC for models\n",
    "decision_tree_AUC_ROC = do.cross_validate_performance(data_dict, \"decision_tree\", opt, \"AUC_ROC\", threshold_list)\n",
    "random_forest_AUC_ROC = do.cross_validate_performance(data_dict, \"random_forest\", opt, \"AUC_ROC\", threshold_list)\n",
    "svm_AUC_ROC = do.cross_validate_performance(data_dict, \"svm\", opt, \"AUC_ROC\", threshold_list)\n",
    "logistics_AUC_ROC = do.cross_validate_performance(data_dict, \"logistics\", opt, \"AUC_ROC\", threshold_list)\n",
    "knn_AUC_ROC = do.cross_validate_performance(data_dict, \"knn\", opt, \"AUC_ROC\", threshold_list)\n"
   ]
  },
  {
   "cell_type": "markdown",
   "metadata": {},
   "source": [
    "Notice that svm models might encounters warning that solver terminated early with max_iter=1000 even with scaled features. This may due to the fact that svm package face problems of computational complexity (with non-linear svc) when the sample size is greater than 10000. Since the performance is not influenced a lot, we might assume that the model is on the track of convergence."
   ]
  },
  {
   "cell_type": "code",
   "execution_count": null,
   "metadata": {},
   "outputs": [],
   "source": []
  },
  {
   "cell_type": "code",
   "execution_count": null,
   "metadata": {},
   "outputs": [],
   "source": []
  },
  {
   "cell_type": "markdown",
   "metadata": {},
   "source": [
    "The cross_validate_performance function in do.py file, prevides a general pipeline to evaluate the performance of each models with different hyper-parameter passing in. The function will automatically find the best threshold which produce the highest score of the given evaluation. The list of threshold I am testing with is the percentile [0.01, 0.02, 0.05, 0.1, 0.2, 0.3, 0.4, 0.5] in the probability distribution of the predicted probabilities. The model also take cross-validated method into account and return the individual performances and average performance for the subsets of train-test split with given combination of hyper-parameters."
   ]
  },
  {
   "cell_type": "markdown",
   "metadata": {},
   "source": [
    "First of all, we compare the evaluation method using accuracy with different machine learning models and take the combination with the highest performance, and find out that knn has the highest accuracy score. However, accuracy is not a appropriate measurement in our analysis since it does not have a clear distinguision on where the accuracy comes from."
   ]
  },
  {
   "cell_type": "code",
   "execution_count": 35,
   "metadata": {},
   "outputs": [
    {
     "data": {
      "text/plain": [
       "criterion                   entropy\n",
       "splitter                       best\n",
       "max_depth                        10\n",
       "avg_performance            0.601298\n",
       "performance_temp_model0    0.591023\n",
       "performance_temp_model1    0.613667\n",
       "performance_temp_model2    0.599203\n",
       "Name: 30, dtype: object"
      ]
     },
     "execution_count": 35,
     "metadata": {},
     "output_type": "execute_result"
    }
   ],
   "source": [
    "decision_tree_accuracy.sort_values(by=\"avg_performance\", ascending=False).iloc[0]"
   ]
  },
  {
   "cell_type": "code",
   "execution_count": 36,
   "metadata": {},
   "outputs": [
    {
     "data": {
      "text/plain": [
       "criterion                   entropy\n",
       "n_estimators                     15\n",
       "max_depth                        10\n",
       "avg_performance            0.601764\n",
       "performance_temp_model0    0.590322\n",
       "performance_temp_model1     0.61237\n",
       "performance_temp_model2    0.602599\n",
       "Name: 50, dtype: object"
      ]
     },
     "execution_count": 36,
     "metadata": {},
     "output_type": "execute_result"
    }
   ],
   "source": [
    "random_forest_accuracy.sort_values(by=\"avg_performance\", ascending=False).iloc[0]"
   ]
  },
  {
   "cell_type": "code",
   "execution_count": 37,
   "metadata": {},
   "outputs": [
    {
     "data": {
      "text/plain": [
       "kernel                       linear\n",
       "C                                10\n",
       "avg_performance            0.561581\n",
       "performance_temp_model0    0.523357\n",
       "performance_temp_model1     0.57665\n",
       "performance_temp_model2    0.584735\n",
       "Name: 3, dtype: object"
      ]
     },
     "execution_count": 37,
     "metadata": {},
     "output_type": "execute_result"
    }
   ],
   "source": [
    "svm_accuracy.sort_values(by=\"avg_performance\", ascending=False).iloc[0]"
   ]
  },
  {
   "cell_type": "code",
   "execution_count": 38,
   "metadata": {},
   "outputs": [
    {
     "data": {
      "text/plain": [
       "penalty                          l1\n",
       "C                                 1\n",
       "avg_performance            0.584306\n",
       "performance_temp_model0    0.578172\n",
       "performance_temp_model1    0.584804\n",
       "performance_temp_model2    0.589943\n",
       "Name: 2, dtype: object"
      ]
     },
     "execution_count": 38,
     "metadata": {},
     "output_type": "execute_result"
    }
   ],
   "source": [
    "logistics_accuracy.sort_values(by=\"avg_performance\", ascending=False).iloc[0]"
   ]
  },
  {
   "cell_type": "code",
   "execution_count": 39,
   "metadata": {},
   "outputs": [
    {
     "data": {
      "text/plain": [
       "metric                     euclidean\n",
       "n_neighbors                       92\n",
       "avg_performance             0.602392\n",
       "performance_temp_model0     0.589835\n",
       "performance_temp_model1     0.611073\n",
       "performance_temp_model2     0.606267\n",
       "Name: 0, dtype: object"
      ]
     },
     "execution_count": 39,
     "metadata": {},
     "output_type": "execute_result"
    }
   ],
   "source": [
    "knn_accuracy.sort_values(by=\"avg_performance\", ascending=False).iloc[0]"
   ]
  },
  {
   "cell_type": "markdown",
   "metadata": {},
   "source": [
    "I then move on to compare the the precision between different moodels, we find out that random forest has the highest score of precision. However, it is comparingly low in the 0.3873, the models might seem to be working badly in predicting true positive from total positive prediction. However, 0.3873 is much more higher than the proportion of 1 in the total case (0.29), which means that the prediction of the model still make some improvement from the base case."
   ]
  },
  {
   "cell_type": "code",
   "execution_count": 40,
   "metadata": {},
   "outputs": [
    {
     "data": {
      "text/plain": [
       "criterion                   entropy\n",
       "splitter                       best\n",
       "max_depth                        10\n",
       "avg_performance            0.384299\n",
       "performance_temp_model0    0.343526\n",
       "performance_temp_model1    0.425548\n",
       "performance_temp_model2    0.383824\n",
       "Name: 30, dtype: object"
      ]
     },
     "execution_count": 40,
     "metadata": {},
     "output_type": "execute_result"
    }
   ],
   "source": [
    "decision_tree_precision.sort_values(by=\"avg_performance\", ascending=False).iloc[0]"
   ]
  },
  {
   "cell_type": "code",
   "execution_count": 41,
   "metadata": {},
   "outputs": [
    {
     "data": {
      "text/plain": [
       "criterion                      gini\n",
       "n_estimators                     10\n",
       "max_depth                        10\n",
       "avg_performance            0.387322\n",
       "performance_temp_model0    0.346562\n",
       "performance_temp_model1    0.428002\n",
       "performance_temp_model2    0.387402\n",
       "Name: 10, dtype: object"
      ]
     },
     "execution_count": 41,
     "metadata": {},
     "output_type": "execute_result"
    }
   ],
   "source": [
    "random_forest_precision.sort_values(by=\"avg_performance\", ascending=False).iloc[0]"
   ]
  },
  {
   "cell_type": "code",
   "execution_count": 42,
   "metadata": {},
   "outputs": [
    {
     "data": {
      "text/plain": [
       "kernel                       linear\n",
       "C                                10\n",
       "avg_performance            0.347084\n",
       "performance_temp_model0    0.280285\n",
       "performance_temp_model1    0.391586\n",
       "performance_temp_model2    0.369379\n",
       "Name: 3, dtype: object"
      ]
     },
     "execution_count": 42,
     "metadata": {},
     "output_type": "execute_result"
    }
   ],
   "source": [
    "svm_precision.sort_values(by=\"avg_performance\", ascending=False).iloc[0]"
   ]
  },
  {
   "cell_type": "code",
   "execution_count": 43,
   "metadata": {},
   "outputs": [
    {
     "data": {
      "text/plain": [
       "penalty                          l1\n",
       "C                                 1\n",
       "avg_performance             0.36985\n",
       "performance_temp_model0    0.335221\n",
       "performance_temp_model1    0.399741\n",
       "performance_temp_model2    0.374587\n",
       "Name: 2, dtype: object"
      ]
     },
     "execution_count": 43,
     "metadata": {},
     "output_type": "execute_result"
    }
   ],
   "source": [
    "logistics_precision.sort_values(by=\"avg_performance\", ascending=False).iloc[0]"
   ]
  },
  {
   "cell_type": "code",
   "execution_count": 44,
   "metadata": {},
   "outputs": [
    {
     "data": {
      "text/plain": [
       "metric                     euclidean\n",
       "n_neighbors                       92\n",
       "avg_performance             0.381559\n",
       "performance_temp_model0     0.337887\n",
       "performance_temp_model1     0.420413\n",
       "performance_temp_model2     0.386379\n",
       "Name: 0, dtype: object"
      ]
     },
     "execution_count": 44,
     "metadata": {},
     "output_type": "execute_result"
    }
   ],
   "source": [
    "knn_precision.sort_values(by=\"avg_performance\", ascending=False).iloc[0]"
   ]
  },
  {
   "cell_type": "markdown",
   "metadata": {},
   "source": [
    "We then focus on the recall of the models, random forest got the highest score in average performance in recall. The differences between the performance of different models are very low. In general, all of the models do well in predicting true positive from the summation of true positive and false negative. The model is working well in including the unit truely classified as 1."
   ]
  },
  {
   "cell_type": "code",
   "execution_count": 45,
   "metadata": {},
   "outputs": [
    {
     "data": {
      "text/plain": [
       "criterion                      gini\n",
       "splitter                     random\n",
       "max_depth                        10\n",
       "avg_performance            0.987956\n",
       "performance_temp_model0    0.981391\n",
       "performance_temp_model1    0.992498\n",
       "performance_temp_model2    0.989978\n",
       "Name: 0, dtype: object"
      ]
     },
     "execution_count": 45,
     "metadata": {},
     "output_type": "execute_result"
    }
   ],
   "source": [
    "decision_tree_recall.sort_values(by=\"avg_performance\", ascending=False).iloc[0]"
   ]
  },
  {
   "cell_type": "code",
   "execution_count": 46,
   "metadata": {},
   "outputs": [
    {
     "data": {
      "text/plain": [
       "criterion                      gini\n",
       "n_estimators                     15\n",
       "max_depth                        11\n",
       "avg_performance            0.998874\n",
       "performance_temp_model0    0.998459\n",
       "performance_temp_model1    0.999117\n",
       "performance_temp_model2    0.999045\n",
       "Name: 21, dtype: object"
      ]
     },
     "execution_count": 46,
     "metadata": {},
     "output_type": "execute_result"
    }
   ],
   "source": [
    "random_forest_recall.sort_values(by=\"avg_performance\", ascending=False).iloc[0]"
   ]
  },
  {
   "cell_type": "code",
   "execution_count": 47,
   "metadata": {},
   "outputs": [
    {
     "data": {
      "text/plain": [
       "kernel                       linear\n",
       "C                                10\n",
       "avg_performance            0.995618\n",
       "performance_temp_model0    0.993837\n",
       "performance_temp_model1    0.995881\n",
       "performance_temp_model2    0.997136\n",
       "Name: 3, dtype: object"
      ]
     },
     "execution_count": 47,
     "metadata": {},
     "output_type": "execute_result"
    }
   ],
   "source": [
    "svm_recall.sort_values(by=\"avg_performance\", ascending=False).iloc[0]"
   ]
  },
  {
   "cell_type": "code",
   "execution_count": 48,
   "metadata": {},
   "outputs": [
    {
     "data": {
      "text/plain": [
       "penalty                          l1\n",
       "C                              0.01\n",
       "avg_performance             0.99823\n",
       "performance_temp_model0    0.997629\n",
       "performance_temp_model1     0.99897\n",
       "performance_temp_model2    0.998091\n",
       "Name: 0, dtype: object"
      ]
     },
     "execution_count": 48,
     "metadata": {},
     "output_type": "execute_result"
    }
   ],
   "source": [
    "logistics_recall.sort_values(by=\"avg_performance\", ascending=False).iloc[0]"
   ]
  },
  {
   "cell_type": "code",
   "execution_count": 49,
   "metadata": {},
   "outputs": [
    {
     "data": {
      "text/plain": [
       "metric                     chebyshev\n",
       "n_neighbors                       97\n",
       "avg_performance               0.9985\n",
       "performance_temp_model0     0.998459\n",
       "performance_temp_model1     0.998235\n",
       "performance_temp_model2     0.998807\n",
       "Name: 12, dtype: object"
      ]
     },
     "execution_count": 49,
     "metadata": {},
     "output_type": "execute_result"
    }
   ],
   "source": [
    "knn_recall.sort_values(by=\"avg_performance\", ascending=False).iloc[0]"
   ]
  },
  {
   "cell_type": "markdown",
   "metadata": {},
   "source": [
    "We then focus on the f1 score of the models which take both precision and recall into account, random forest got the highest score in average performance in f1. The differences between the performance of different models are very low. According to the result be get from the previous model, we know that the score of f1 is dominantly caused by the high recall since the precision is comparing low relatively in all cases."
   ]
  },
  {
   "cell_type": "code",
   "execution_count": 50,
   "metadata": {},
   "outputs": [
    {
     "data": {
      "text/plain": [
       "criterion                   entropy\n",
       "splitter                       best\n",
       "max_depth                        10\n",
       "avg_performance            0.492495\n",
       "performance_temp_model0    0.453787\n",
       "performance_temp_model1    0.525931\n",
       "performance_temp_model2    0.497768\n",
       "Name: 30, dtype: object"
      ]
     },
     "execution_count": 50,
     "metadata": {},
     "output_type": "execute_result"
    }
   ],
   "source": [
    "decision_tree_f1.sort_values(by=\"avg_performance\", ascending=False).iloc[0]"
   ]
  },
  {
   "cell_type": "code",
   "execution_count": 51,
   "metadata": {},
   "outputs": [
    {
     "data": {
      "text/plain": [
       "criterion                      gini\n",
       "n_estimators                     15\n",
       "max_depth                        10\n",
       "avg_performance            0.500339\n",
       "performance_temp_model0    0.462003\n",
       "performance_temp_model1    0.536556\n",
       "performance_temp_model2    0.502459\n",
       "Name: 20, dtype: object"
      ]
     },
     "execution_count": 51,
     "metadata": {},
     "output_type": "execute_result"
    }
   ],
   "source": [
    "random_forest_f1.sort_values(by=\"avg_performance\", ascending=False).iloc[0]"
   ]
  },
  {
   "cell_type": "code",
   "execution_count": 52,
   "metadata": {},
   "outputs": [
    {
     "data": {
      "text/plain": [
       "kernel                       linear\n",
       "C                                10\n",
       "avg_performance            0.461323\n",
       "performance_temp_model0    0.413922\n",
       "performance_temp_model1    0.493541\n",
       "performance_temp_model2    0.476505\n",
       "Name: 3, dtype: object"
      ]
     },
     "execution_count": 52,
     "metadata": {},
     "output_type": "execute_result"
    }
   ],
   "source": [
    "svm_f1.sort_values(by=\"avg_performance\", ascending=False).iloc[0]"
   ]
  },
  {
   "cell_type": "code",
   "execution_count": 53,
   "metadata": {},
   "outputs": [
    {
     "data": {
      "text/plain": [
       "penalty                          l1\n",
       "C                                 1\n",
       "avg_performance            0.476991\n",
       "performance_temp_model0    0.444705\n",
       "performance_temp_model1    0.504953\n",
       "performance_temp_model2    0.481317\n",
       "Name: 2, dtype: object"
      ]
     },
     "execution_count": 53,
     "metadata": {},
     "output_type": "execute_result"
    }
   ],
   "source": [
    "logistics_f1.sort_values(by=\"avg_performance\", ascending=False).iloc[0]"
   ]
  },
  {
   "cell_type": "code",
   "execution_count": 54,
   "metadata": {},
   "outputs": [
    {
     "data": {
      "text/plain": [
       "metric                     euclidean\n",
       "n_neighbors                       97\n",
       "avg_performance             0.486483\n",
       "performance_temp_model0     0.446728\n",
       "performance_temp_model1     0.517285\n",
       "performance_temp_model2     0.495435\n",
       "Name: 2, dtype: object"
      ]
     },
     "execution_count": 54,
     "metadata": {},
     "output_type": "execute_result"
    }
   ],
   "source": [
    "knn_f1.sort_values(by=\"avg_performance\", ascending=False).iloc[0]"
   ]
  },
  {
   "cell_type": "markdown",
   "metadata": {},
   "source": [
    "Finally, we focus on the AUC_ROC score of the models which take both precision and recall into account, random forest got the highest score in average performance in f1. The differences between the performance of different models are very low. According to the result be get from the previous model, we know that the score of f1 is dominantly caused by the high recall since the precision is comparing low relatively in all cases."
   ]
  },
  {
   "cell_type": "code",
   "execution_count": 55,
   "metadata": {},
   "outputs": [
    {
     "data": {
      "text/plain": [
       "criterion                   entropy\n",
       "splitter                       best\n",
       "max_depth                        10\n",
       "avg_performance            0.653764\n",
       "performance_temp_model0    0.636967\n",
       "performance_temp_model1    0.662191\n",
       "performance_temp_model2    0.662134\n",
       "Name: 30, dtype: object"
      ]
     },
     "execution_count": 55,
     "metadata": {},
     "output_type": "execute_result"
    }
   ],
   "source": [
    "decision_tree_AUC_ROC.sort_values(by=\"avg_performance\", ascending=False).iloc[0]"
   ]
  },
  {
   "cell_type": "code",
   "execution_count": 56,
   "metadata": {},
   "outputs": [
    {
     "data": {
      "text/plain": [
       "criterion                   entropy\n",
       "n_estimators                     15\n",
       "max_depth                        10\n",
       "avg_performance            0.667928\n",
       "performance_temp_model0    0.655059\n",
       "performance_temp_model1    0.675309\n",
       "performance_temp_model2    0.673415\n",
       "Name: 50, dtype: object"
      ]
     },
     "execution_count": 56,
     "metadata": {},
     "output_type": "execute_result"
    }
   ],
   "source": [
    "random_forest_AUC_ROC.sort_values(by=\"avg_performance\", ascending=False).iloc[0]"
   ]
  },
  {
   "cell_type": "code",
   "execution_count": 57,
   "metadata": {},
   "outputs": [
    {
     "data": {
      "text/plain": [
       "kernel                       linear\n",
       "C                                10\n",
       "avg_performance            0.602857\n",
       "performance_temp_model0    0.542052\n",
       "performance_temp_model1    0.624307\n",
       "performance_temp_model2    0.642213\n",
       "Name: 3, dtype: object"
      ]
     },
     "execution_count": 57,
     "metadata": {},
     "output_type": "execute_result"
    }
   ],
   "source": [
    "svm_AUC_ROC.sort_values(by=\"avg_performance\", ascending=False).iloc[0]"
   ]
  },
  {
   "cell_type": "code",
   "execution_count": 58,
   "metadata": {},
   "outputs": [
    {
     "data": {
      "text/plain": [
       "penalty                          l1\n",
       "C                               100\n",
       "avg_performance            0.640292\n",
       "performance_temp_model0    0.637662\n",
       "performance_temp_model1    0.637109\n",
       "performance_temp_model2    0.646105\n",
       "Name: 4, dtype: object"
      ]
     },
     "execution_count": 58,
     "metadata": {},
     "output_type": "execute_result"
    }
   ],
   "source": [
    "logistics_AUC_ROC.sort_values(by=\"avg_performance\", ascending=False).iloc[0]"
   ]
  },
  {
   "cell_type": "code",
   "execution_count": 59,
   "metadata": {},
   "outputs": [
    {
     "data": {
      "text/plain": [
       "metric                     euclidean\n",
       "n_neighbors                       97\n",
       "avg_performance             0.652853\n",
       "performance_temp_model0     0.638118\n",
       "performance_temp_model1     0.657037\n",
       "performance_temp_model2     0.663404\n",
       "Name: 2, dtype: object"
      ]
     },
     "execution_count": 59,
     "metadata": {},
     "output_type": "execute_result"
    }
   ],
   "source": [
    "knn_AUC_ROC.sort_values(by=\"avg_performance\", ascending=False).iloc[0]"
   ]
  },
  {
   "cell_type": "markdown",
   "metadata": {},
   "source": [
    "Since in this analysis, we care both the efficiency and inclusiveness of all the models, we will focus on using f1 and AUC_ROC in this case. In order to validate the usage of these models, I apply esembling methods like boosting and bagging for the optimized models we have so far. For f1 score and AUC_ROC score, I will select random_forest model with criterion=entropy, n_estimators=15, and max_depth=10 for the boosting model (since bagging method is already embedded in random forest). Thus, I will imply the optimal logistics model with hyper-parameters penalty==l1 and c==1 for the bagging model."
   ]
  },
  {
   "cell_type": "code",
   "execution_count": 62,
   "metadata": {},
   "outputs": [],
   "source": [
    "opt_dt = decision_tree.classifier_settings_rf(criterion=\"entropy\", n_estimators=15, max_depth=10)"
   ]
  },
  {
   "cell_type": "code",
   "execution_count": 83,
   "metadata": {},
   "outputs": [],
   "source": [
    "opt_log = logistic.classifier_settings_log(penalty=\"l1\",C=1)"
   ]
  },
  {
   "cell_type": "markdown",
   "metadata": {},
   "source": [
    "By applying the random forest model in boosting model intaking f1 score as evaluation method, the average performance doesn't improve in this case even the n_estimators have been changed. Which is reasonable since boosting tends to work better for linear classifiers like svm and logistics. For the logistics model using bagging method, the performance of f1 has slightly improvement, which is also reasonable since bagging methods works better for variance reduction for models like decision tree."
   ]
  },
  {
   "cell_type": "code",
   "execution_count": null,
   "metadata": {},
   "outputs": [],
   "source": [
    "do.cross_validate_performance(data_dict, \"boosting\", opt_dt, \"f1\", threshold_list)"
   ]
  },
  {
   "cell_type": "code",
   "execution_count": null,
   "metadata": {},
   "outputs": [],
   "source": [
    "bagging_f1 = do.cross_validate_performance(data_dict, \"bagging\", opt_log, \"f1\", threshold_list)"
   ]
  },
  {
   "cell_type": "code",
   "execution_count": 77,
   "metadata": {},
   "outputs": [
    {
     "data": {
      "text/html": [
       "<div>\n",
       "<style scoped>\n",
       "    .dataframe tbody tr th:only-of-type {\n",
       "        vertical-align: middle;\n",
       "    }\n",
       "\n",
       "    .dataframe tbody tr th {\n",
       "        vertical-align: top;\n",
       "    }\n",
       "\n",
       "    .dataframe thead th {\n",
       "        text-align: right;\n",
       "    }\n",
       "</style>\n",
       "<table border=\"1\" class=\"dataframe\">\n",
       "  <thead>\n",
       "    <tr style=\"text-align: right;\">\n",
       "      <th></th>\n",
       "      <th>n_estimators</th>\n",
       "      <th>avg_performance</th>\n",
       "      <th>performance_temp_model0</th>\n",
       "      <th>performance_temp_model1</th>\n",
       "      <th>performance_temp_model2</th>\n",
       "    </tr>\n",
       "  </thead>\n",
       "  <tbody>\n",
       "    <tr>\n",
       "      <th>0</th>\n",
       "      <td>5</td>\n",
       "      <td>0.476768</td>\n",
       "      <td>0.443639</td>\n",
       "      <td>0.506322</td>\n",
       "      <td>0.480344</td>\n",
       "    </tr>\n",
       "    <tr>\n",
       "      <th>1</th>\n",
       "      <td>10</td>\n",
       "      <td>0.476567</td>\n",
       "      <td>0.442857</td>\n",
       "      <td>0.504861</td>\n",
       "      <td>0.481982</td>\n",
       "    </tr>\n",
       "    <tr>\n",
       "      <th>2</th>\n",
       "      <td>15</td>\n",
       "      <td>0.476148</td>\n",
       "      <td>0.443213</td>\n",
       "      <td>0.504222</td>\n",
       "      <td>0.481009</td>\n",
       "    </tr>\n",
       "  </tbody>\n",
       "</table>\n",
       "</div>"
      ],
      "text/plain": [
       "  n_estimators  avg_performance  performance_temp_model0  \\\n",
       "0            5         0.476768                 0.443639   \n",
       "1           10         0.476567                 0.442857   \n",
       "2           15         0.476148                 0.443213   \n",
       "\n",
       "   performance_temp_model1  performance_temp_model2  \n",
       "0                 0.506322                 0.480344  \n",
       "1                 0.504861                 0.481982  \n",
       "2                 0.504222                 0.481009  "
      ]
     },
     "execution_count": 77,
     "metadata": {},
     "output_type": "execute_result"
    }
   ],
   "source": [
    "bagging_f1"
   ]
  },
  {
   "cell_type": "markdown",
   "metadata": {},
   "source": [
    "By applying the random forest model in boosting model intaking AUC_ROC score as evaluation method, the average performance doesn't improve in this case even the n_estimators have been changed. We then use logistics model for boosting methods with hyper-parameters penalty==l1 and c==100, but the performance of the model remains."
   ]
  },
  {
   "cell_type": "code",
   "execution_count": null,
   "metadata": {},
   "outputs": [],
   "source": [
    "boosting_AUC_ROC = do.cross_validate_performance(data_dict, \"boosting\", opt_dt, \"AUC_ROC\", threshold_list)"
   ]
  },
  {
   "cell_type": "code",
   "execution_count": 70,
   "metadata": {},
   "outputs": [
    {
     "data": {
      "text/html": [
       "<div>\n",
       "<style scoped>\n",
       "    .dataframe tbody tr th:only-of-type {\n",
       "        vertical-align: middle;\n",
       "    }\n",
       "\n",
       "    .dataframe tbody tr th {\n",
       "        vertical-align: top;\n",
       "    }\n",
       "\n",
       "    .dataframe thead th {\n",
       "        text-align: right;\n",
       "    }\n",
       "</style>\n",
       "<table border=\"1\" class=\"dataframe\">\n",
       "  <thead>\n",
       "    <tr style=\"text-align: right;\">\n",
       "      <th></th>\n",
       "      <th>n_estimators</th>\n",
       "      <th>avg_performance</th>\n",
       "      <th>performance_temp_model0</th>\n",
       "      <th>performance_temp_model1</th>\n",
       "      <th>performance_temp_model2</th>\n",
       "    </tr>\n",
       "  </thead>\n",
       "  <tbody>\n",
       "    <tr>\n",
       "      <th>0</th>\n",
       "      <td>50</td>\n",
       "      <td>0.636191</td>\n",
       "      <td>0.618334</td>\n",
       "      <td>0.640331</td>\n",
       "      <td>0.649907</td>\n",
       "    </tr>\n",
       "    <tr>\n",
       "      <th>1</th>\n",
       "      <td>100</td>\n",
       "      <td>0.622903</td>\n",
       "      <td>0.605185</td>\n",
       "      <td>0.627225</td>\n",
       "      <td>0.636298</td>\n",
       "    </tr>\n",
       "    <tr>\n",
       "      <th>2</th>\n",
       "      <td>150</td>\n",
       "      <td>0.614660</td>\n",
       "      <td>0.598672</td>\n",
       "      <td>0.617899</td>\n",
       "      <td>0.627410</td>\n",
       "    </tr>\n",
       "  </tbody>\n",
       "</table>\n",
       "</div>"
      ],
      "text/plain": [
       "  n_estimators  avg_performance  performance_temp_model0  \\\n",
       "0           50         0.636191                 0.618334   \n",
       "1          100         0.622903                 0.605185   \n",
       "2          150         0.614660                 0.598672   \n",
       "\n",
       "   performance_temp_model1  performance_temp_model2  \n",
       "0                 0.640331                 0.649907  \n",
       "1                 0.627225                 0.636298  \n",
       "2                 0.617899                 0.627410  "
      ]
     },
     "execution_count": 70,
     "metadata": {},
     "output_type": "execute_result"
    }
   ],
   "source": [
    "boosting_AUC_ROC"
   ]
  },
  {
   "cell_type": "code",
   "execution_count": null,
   "metadata": {},
   "outputs": [],
   "source": [
    "opt_log = logistic.classifier_settings_log(penalty=\"l1\",C=100, n_jobs=1)\n",
    "boosting_AUC_ROC_log = do.cross_validate_performance(data_dict, \"boosting\", opt_log, \"AUC_ROC\", threshold_list)"
   ]
  },
  {
   "cell_type": "code",
   "execution_count": 89,
   "metadata": {},
   "outputs": [
    {
     "data": {
      "text/html": [
       "<div>\n",
       "<style scoped>\n",
       "    .dataframe tbody tr th:only-of-type {\n",
       "        vertical-align: middle;\n",
       "    }\n",
       "\n",
       "    .dataframe tbody tr th {\n",
       "        vertical-align: top;\n",
       "    }\n",
       "\n",
       "    .dataframe thead th {\n",
       "        text-align: right;\n",
       "    }\n",
       "</style>\n",
       "<table border=\"1\" class=\"dataframe\">\n",
       "  <thead>\n",
       "    <tr style=\"text-align: right;\">\n",
       "      <th></th>\n",
       "      <th>n_estimators</th>\n",
       "      <th>avg_performance</th>\n",
       "      <th>performance_temp_model0</th>\n",
       "      <th>performance_temp_model1</th>\n",
       "      <th>performance_temp_model2</th>\n",
       "    </tr>\n",
       "  </thead>\n",
       "  <tbody>\n",
       "    <tr>\n",
       "      <th>0</th>\n",
       "      <td>50</td>\n",
       "      <td>0.61632</td>\n",
       "      <td>0.615028</td>\n",
       "      <td>0.618514</td>\n",
       "      <td>0.615420</td>\n",
       "    </tr>\n",
       "    <tr>\n",
       "      <th>1</th>\n",
       "      <td>100</td>\n",
       "      <td>0.61632</td>\n",
       "      <td>0.615028</td>\n",
       "      <td>0.618513</td>\n",
       "      <td>0.615420</td>\n",
       "    </tr>\n",
       "    <tr>\n",
       "      <th>2</th>\n",
       "      <td>150</td>\n",
       "      <td>0.61632</td>\n",
       "      <td>0.615028</td>\n",
       "      <td>0.618513</td>\n",
       "      <td>0.615419</td>\n",
       "    </tr>\n",
       "  </tbody>\n",
       "</table>\n",
       "</div>"
      ],
      "text/plain": [
       "  n_estimators  avg_performance  performance_temp_model0  \\\n",
       "0           50          0.61632                 0.615028   \n",
       "1          100          0.61632                 0.615028   \n",
       "2          150          0.61632                 0.615028   \n",
       "\n",
       "   performance_temp_model1  performance_temp_model2  \n",
       "0                 0.618514                 0.615420  \n",
       "1                 0.618513                 0.615420  \n",
       "2                 0.618513                 0.615419  "
      ]
     },
     "execution_count": 89,
     "metadata": {},
     "output_type": "execute_result"
    }
   ],
   "source": [
    "boosting_AUC_ROC_log"
   ]
  },
  {
   "cell_type": "code",
   "execution_count": null,
   "metadata": {},
   "outputs": [],
   "source": []
  },
  {
   "cell_type": "code",
   "execution_count": null,
   "metadata": {},
   "outputs": [],
   "source": []
  },
  {
   "cell_type": "code",
   "execution_count": null,
   "metadata": {},
   "outputs": [],
   "source": []
  },
  {
   "cell_type": "code",
   "execution_count": null,
   "metadata": {},
   "outputs": [],
   "source": []
  },
  {
   "cell_type": "code",
   "execution_count": null,
   "metadata": {},
   "outputs": [],
   "source": []
  },
  {
   "cell_type": "code",
   "execution_count": null,
   "metadata": {},
   "outputs": [],
   "source": []
  },
  {
   "cell_type": "markdown",
   "metadata": {},
   "source": [
    "The main purpose of the analysis is to target the projects on the donorchoose which contain higher risks of not being funded in 60 days after they were posted. First of all, I define the classifier by classifing the projects which are not funded in 60 days after they were posted as 1. In total, we have arround 29% of our data be classified as 1. At this level, we are not arguing that the samples are inbalance. The data contains some missing values in categorical features which may influence the operation of the machine learning models. The problem may be solved by filling in the most frequent values in the given features. After transforming categorical features to binary and scaling continuous variables, there are in total 92 usable features in the dataset. I then apply feature selection methods to choose 30 features which contain the 30 highest variances in the dataset."
   ]
  },
  {
   "cell_type": "code",
   "execution_count": 90,
   "metadata": {},
   "outputs": [
    {
     "data": {
      "text/plain": [
       "['resource_type==Technology',\n",
       " 'eligible_double_your_impact_match==t',\n",
       " 'eligible_double_your_impact_match==f',\n",
       " 'total_price_including_optional_support',\n",
       " 'resource_type==Supplies',\n",
       " 'resource_type==Books',\n",
       " 'poverty_level==highest poverty',\n",
       " 'primary_focus_area==Literacy & Language',\n",
       " 'primary_focus_area==Music & The Arts',\n",
       " 'primary_focus_subject==Environmental Science',\n",
       " 'poverty_level==high poverty',\n",
       " 'primary_focus_area==Math & Science',\n",
       " 'primary_focus_subject==Music',\n",
       " 'resource_type==Trips',\n",
       " 'secondary_focus_area==Music & The Arts',\n",
       " 'poverty_level==moderate poverty',\n",
       " 'primary_focus_subject==Visual Arts',\n",
       " 'primary_focus_subject==Literature & Writing',\n",
       " 'primary_focus_subject==Health & Life Science',\n",
       " 'secondary_focus_subject==Mathematics',\n",
       " 'primary_focus_subject==Literacy',\n",
       " 'primary_focus_subject==College & Career Prep',\n",
       " 'secondary_focus_subject==Performing Arts',\n",
       " 'secondary_focus_subject==Other',\n",
       " 'primary_focus_subject==Other',\n",
       " 'school_magnet==t',\n",
       " 'school_magnet==f',\n",
       " 'school_charter==t',\n",
       " 'school_charter==f',\n",
       " 'secondary_focus_subject==Health & Life Science']"
      ]
     },
     "execution_count": 90,
     "metadata": {},
     "output_type": "execute_result"
    }
   ],
   "source": [
    "Kfeatures"
   ]
  },
  {
   "cell_type": "markdown",
   "metadata": {},
   "source": [
    "According to the above table, we might observe that characteristics like whether the project has technological resource type, whether the project was eligible for a 50% off offer by a corporate partner, the total price of the support, poverty level and focusing area are potentially influential to the prediction of the models\n",
    "\n",
    "For the training part of the analysis, the cross_validate_performance function in do.py file provides a general pipeline to evaluate the performance of each models with different hyper-parameter passing in. The function will automatically find the best threshold which produce the highest score of the given evaluation methods. The list of threshold I am testing with is the percentile [0.01, 0.02, 0.05, 0.1, 0.2, 0.3, 0.4, 0.5] in the probability distribution of the predicted probabilities. The model also take cross-validated method into account and return the individual performances and average performance for the subsets of train-test split with given combination of hyper-parameters. In this case we will apply rolling window strategy as the cross-validation method for temporal data with time unit of 6 months.\n",
    "\n",
    "First of all, we compare the evaluation method using accuracy with different machine learning models and take the combination with the highest performance, and find out that knn has the highest accuracy score. However, accuracy is not a appropriate measurement in our analysis since it does not have a clear distinguision on where the accuracy comes from."
   ]
  },
  {
   "cell_type": "code",
   "execution_count": 91,
   "metadata": {},
   "outputs": [
    {
     "data": {
      "text/plain": [
       "metric                     euclidean\n",
       "n_neighbors                       92\n",
       "avg_performance             0.602392\n",
       "performance_temp_model0     0.589835\n",
       "performance_temp_model1     0.611073\n",
       "performance_temp_model2     0.606267\n",
       "Name: 0, dtype: object"
      ]
     },
     "execution_count": 91,
     "metadata": {},
     "output_type": "execute_result"
    }
   ],
   "source": [
    "knn_accuracy.sort_values(by=\"avg_performance\", ascending=False).iloc[0]"
   ]
  },
  {
   "cell_type": "markdown",
   "metadata": {},
   "source": [
    "Secondly, I compare the the precision between different moodels, and find out that random forest has the highest score of precision. The models might seem to be working badly in predicting true positive from total positive prediction with the score of 0.3873. However, 0.3873 is much more higher than the proportion of 1 in the total case (0.29), which means that the prediction of the model still make some improvement from the base case."
   ]
  },
  {
   "cell_type": "code",
   "execution_count": 92,
   "metadata": {},
   "outputs": [
    {
     "data": {
      "text/plain": [
       "criterion                      gini\n",
       "n_estimators                     10\n",
       "max_depth                        10\n",
       "avg_performance            0.387322\n",
       "performance_temp_model0    0.346562\n",
       "performance_temp_model1    0.428002\n",
       "performance_temp_model2    0.387402\n",
       "Name: 10, dtype: object"
      ]
     },
     "execution_count": 92,
     "metadata": {},
     "output_type": "execute_result"
    }
   ],
   "source": [
    "random_forest_precision.sort_values(by=\"avg_performance\", ascending=False).iloc[0]"
   ]
  },
  {
   "cell_type": "markdown",
   "metadata": {},
   "source": [
    "We then focus on the recall of the models, random forest got the highest score in average performance in recall. The differences between the performance of different models are very low. In general, all of the models do well in predicting true positive from the summation of true positive and false negative. The model is working well in including the unit truely classified as 1."
   ]
  },
  {
   "cell_type": "code",
   "execution_count": 93,
   "metadata": {},
   "outputs": [
    {
     "data": {
      "text/plain": [
       "criterion                      gini\n",
       "n_estimators                     15\n",
       "max_depth                        11\n",
       "avg_performance            0.998874\n",
       "performance_temp_model0    0.998459\n",
       "performance_temp_model1    0.999117\n",
       "performance_temp_model2    0.999045\n",
       "Name: 21, dtype: object"
      ]
     },
     "execution_count": 93,
     "metadata": {},
     "output_type": "execute_result"
    }
   ],
   "source": [
    "random_forest_recall.sort_values(by=\"avg_performance\", ascending=False).iloc[0]"
   ]
  },
  {
   "cell_type": "markdown",
   "metadata": {},
   "source": [
    "We then focus on the f1 score and AUC_ROC of the models which take both precision and recall into account, random forest got the highest score in average performance in both f1 and AUC_ROC. The differences between the performance of different models are very low. According to the result be get from the previous model, we know that the score of f1 and AUC_ROC are dominantly caused by the high recall since the precision is comparing low relatively in all cases."
   ]
  },
  {
   "cell_type": "code",
   "execution_count": 94,
   "metadata": {},
   "outputs": [
    {
     "data": {
      "text/plain": [
       "criterion                      gini\n",
       "n_estimators                     15\n",
       "max_depth                        10\n",
       "avg_performance            0.500339\n",
       "performance_temp_model0    0.462003\n",
       "performance_temp_model1    0.536556\n",
       "performance_temp_model2    0.502459\n",
       "Name: 20, dtype: object"
      ]
     },
     "execution_count": 94,
     "metadata": {},
     "output_type": "execute_result"
    }
   ],
   "source": [
    "random_forest_f1.sort_values(by=\"avg_performance\", ascending=False).iloc[0]"
   ]
  },
  {
   "cell_type": "code",
   "execution_count": 95,
   "metadata": {},
   "outputs": [
    {
     "data": {
      "text/plain": [
       "criterion                   entropy\n",
       "n_estimators                     15\n",
       "max_depth                        10\n",
       "avg_performance            0.667928\n",
       "performance_temp_model0    0.655059\n",
       "performance_temp_model1    0.675309\n",
       "performance_temp_model2    0.673415\n",
       "Name: 50, dtype: object"
      ]
     },
     "execution_count": 95,
     "metadata": {},
     "output_type": "execute_result"
    }
   ],
   "source": [
    "random_forest_AUC_ROC.sort_values(by=\"avg_performance\", ascending=False).iloc[0]"
   ]
  },
  {
   "cell_type": "markdown",
   "metadata": {},
   "source": [
    "In those tables above, we might observe the fluctuations over times after we include more time interval for training subsets. Thus, we use the average performance from the temporal splitted datasets and conclude that random forest model with criterion=entropy, n_estimators=15, and max_depth=10 for hyper-parameters perform the best in the prediction of the high risk project which might not be funded in 60 days. I also try boosting method on random forest model, but the result is quite similar to the original model which is reasonable since boosting method is working better on linear classifiers like svm and logistics."
   ]
  },
  {
   "cell_type": "code",
   "execution_count": null,
   "metadata": {},
   "outputs": [],
   "source": [
    "random_forest_AUC_ROC = do.cross_validate_performance(data_dict, \"random_forest\", [], \"AUC_ROC\", [0.05])"
   ]
  },
  {
   "cell_type": "code",
   "execution_count": 99,
   "metadata": {},
   "outputs": [
    {
     "data": {
      "text/plain": [
       "criterion                   entropy\n",
       "n_estimators                     15\n",
       "max_depth                        10\n",
       "avg_performance            0.669093\n",
       "performance_temp_model0    0.656031\n",
       "performance_temp_model1    0.677662\n",
       "performance_temp_model2    0.673584\n",
       "Name: 50, dtype: object"
      ]
     },
     "execution_count": 99,
     "metadata": {},
     "output_type": "execute_result"
    }
   ],
   "source": [
    "random_forest_AUC_ROC.sort_values(by=\"avg_performance\", ascending=False).iloc[0]"
   ]
  },
  {
   "cell_type": "markdown",
   "metadata": {},
   "source": [
    "Since we care about the 5% of project population which contain the highest risk of not receiving funds, we re-run the random forest model by setting the threshold to the percentile of 5 in the predicted probability array and discover that the performance of AUC_ROC is similar to the overall best model with multiple threshold. I will recommend to deploy this model as the classifier for predicting the high risk projects in donorchoose. The distribution of the predicted probability and precision recall curve of the optimal model is presented below."
   ]
  },
  {
   "cell_type": "code",
   "execution_count": 100,
   "metadata": {},
   "outputs": [],
   "source": [
    "X_train, y_train, X_test, y_test = data_dict[3][0], data_dict[3][1], data_dict[3][2], data_dict[3][3]\n",
    "opt_dt = decision_tree.classifier_settings_rf(criterion=\"entropy\", n_estimators=15, max_depth=10)\n",
    "ypredp = decision_tree.train_random_forest(X_train, y_train, X_test, opt_dt)[1]"
   ]
  },
  {
   "cell_type": "code",
   "execution_count": 102,
   "metadata": {},
   "outputs": [
    {
     "data": {
      "text/plain": [
       "'mean = 0.5, count = 44167'"
      ]
     },
     "execution_count": 102,
     "metadata": {},
     "output_type": "execute_result"
    },
    {
     "data": {
      "image/png": "[encoded data removed]",
      "text/plain": [
       "<Figure size 432x288 with 1 Axes>"
      ]
     },
     "metadata": {},
     "output_type": "display_data"
    }
   ],
   "source": [
    "eva.predp_distribution(ypredp)"
   ]
  },
  {
   "cell_type": "code",
   "execution_count": 103,
   "metadata": {},
   "outputs": [
    {
     "data": {
      "image/png": "[encoded data removed]",
      "text/plain": [
       "<Figure size 432x288 with 1 Axes>"
      ]
     },
     "metadata": {},
     "output_type": "display_data"
    }
   ],
   "source": [
    "eva.depict_precision_recall_curve(y_test, ypredp)"
   ]
  },
  {
   "cell_type": "code",
   "execution_count": null,
   "metadata": {},
   "outputs": [],
   "source": []
  }
 ],
 "metadata": {
  "kernelspec": {
   "display_name": "Python [conda env:py3.5]",
   "language": "python",
   "name": "conda-env-py3.5-py"
  },
  "language_info": {
   "codemirror_mode": {
    "name": "ipython",
    "version": 3
   },
   "file_extension": ".py",
   "mimetype": "text/x-python",
   "name": "python",
   "nbconvert_exporter": "python",
   "pygments_lexer": "ipython3",
   "version": "3.5.5"
  }
 },
 "nbformat": 4,
 "nbformat_minor": 2
}
